{
 "cells": [
  {
   "cell_type": "markdown",
   "metadata": {},
   "source": [
    "# Smoke Estimate"
   ]
  },
  {
   "cell_type": "markdown",
   "metadata": {},
   "source": [
    "In this notebook I explore the various features of wildfire data to estimate an annual smoke estimate for Mesa, Arizona. The goal is to develop a formula that quantifies the smoke impact based on factors such as fire size, proximity to the city, and the total acres burned.\n",
    "\n",
    "While doing this, I ensure the following:\n",
    "\n",
    "1. The estimate only considers the last 60 years of wildland fire data. (Given that we do not have wildfire data for 2021-2024, I cannot find an estimate for that.)\n",
    "2. The estimate only considers fires that are within 650 miles of Mesa, AZ.\n",
    "3. The data defines the annual fire season as running from May 1st through October 31st.\n",
    "\n",
    "(Note: Above 3 points were taken from the assignment and were provided by Prof. McDonald. I only edited it a little)"
   ]
  },
  {
   "cell_type": "code",
   "execution_count": 41,
   "metadata": {
    "id": "ZcVzgVsN6i99"
   },
   "outputs": [],
   "source": [
    "#\n",
    "#    IMPORTS\n",
    "#\n",
    "\n",
    "#    These are standard python modules. In case you do not have a python module, you should use `!pip install <module>`\n",
    "import pandas as pd\n",
    "#"
   ]
  },
  {
   "cell_type": "code",
   "execution_count": 42,
   "metadata": {
    "id": "9F2NQHtJ6i9-"
   },
   "outputs": [],
   "source": [
    "# Load the data\n",
    "# The data has been filtered to make sure the above mentioned conditions are met.\n",
    "wildfire_data = pd.read_csv(\"../Processed Data/filtered_wildfires_with_distances.csv\", index_col=0)\n",
    "aqi_data = pd.read_csv(\"../Processed Data/AQI_data.csv\", index_col=0)"
   ]
  },
  {
   "cell_type": "markdown",
   "metadata": {},
   "source": [
    "### Explore the wildfire data to find the best columns for calculating the smoke estimate"
   ]
  },
  {
   "cell_type": "code",
   "execution_count": 43,
   "metadata": {
    "colab": {
     "base_uri": "https://localhost:8080/"
    },
    "id": "92QlvHLr6i9_",
    "outputId": "af3d563b-4f8c-4ee6-9b03-4a6978ed96ed"
   },
   "outputs": [
    {
     "name": "stdout",
     "output_type": "stream",
     "text": [
      "(33901, 22)\n",
      "Index(['OBJECTID', 'USGS_Assigned_ID', 'Assigned_Fire_Type', 'Fire_Year',\n",
      "       'Fire_Polygon_Tier', 'Fire_Attribute_Tiers', 'GIS_Acres',\n",
      "       'GIS_Hectares', 'Listed_Fire_Types', 'Listed_Fire_Names',\n",
      "       'Listed_Fire_Codes', 'Listed_Fire_IDs', 'Listed_Fire_Dates',\n",
      "       'Listed_Fire_Causes', 'Listed_Fire_Cause_Class',\n",
      "       'Listed_Rx_Reported_Acres', 'Circleness_Scale', 'Circle_Flag',\n",
      "       'Shape_Length', 'Shape_Area', 'Min_Distance', 'Average_Distance'],\n",
      "      dtype='object')\n"
     ]
    }
   ],
   "source": [
    "# Here I explore what all columns are in the filtered wildfire dataset\n",
    "print(wildfire_data.shape)\n",
    "print(wildfire_data.columns)"
   ]
  },
  {
   "cell_type": "code",
   "execution_count": 44,
   "metadata": {
    "colab": {
     "base_uri": "https://localhost:8080/"
    },
    "id": "nyYFbrn36i-A",
    "outputId": "3dc1e693-f4b5-412e-b30c-6fb6020f428f"
   },
   "outputs": [
    {
     "name": "stdout",
     "output_type": "stream",
     "text": [
      "<class 'pandas.core.frame.DataFrame'>\n",
      "Int64Index: 33901 entries, 0 to 117161\n",
      "Data columns (total 11 columns):\n",
      " #   Column                Non-Null Count  Dtype  \n",
      "---  ------                --------------  -----  \n",
      " 0   GIS_Acres             33901 non-null  float64\n",
      " 1   Min_Distance          33901 non-null  float64\n",
      " 2   Average_Distance      33901 non-null  float64\n",
      " 3   Assigned_Fire_Type    33901 non-null  object \n",
      " 4   Fire_Polygon_Tier     33901 non-null  int64  \n",
      " 5   Fire_Attribute_Tiers  33901 non-null  object \n",
      " 6   Fire_Year             33901 non-null  int64  \n",
      " 7   Circleness_Scale      33901 non-null  float64\n",
      " 8   Circle_Flag           2818 non-null   float64\n",
      " 9   Shape_Length          33901 non-null  float64\n",
      " 10  Shape_Area            33901 non-null  float64\n",
      "dtypes: float64(7), int64(2), object(2)\n",
      "memory usage: 3.1+ MB\n",
      "None\n"
     ]
    }
   ],
   "source": [
    "# List of columns I want to explore further\n",
    "columns_to_explore = [\n",
    "    'GIS_Acres', 'Min_Distance', 'Average_Distance',\n",
    "    'Assigned_Fire_Type', 'Fire_Polygon_Tier',\n",
    "    'Fire_Attribute_Tiers', 'Fire_Year', 'Circleness_Scale', 'Circle_Flag', 'Shape_Length', 'Shape_Area'\n",
    "]\n",
    "\n",
    "print(wildfire_data[columns_to_explore].info())\n",
    "\n"
   ]
  },
  {
   "cell_type": "code",
   "execution_count": 45,
   "metadata": {},
   "outputs": [
    {
     "name": "stdout",
     "output_type": "stream",
     "text": [
      "           GIS_Acres  Min_Distance  Average_Distance  Fire_Polygon_Tier  \\\n",
      "count   33901.000000  33901.000000      33901.000000       33901.000000   \n",
      "mean     1958.422223    419.826642        420.451218           2.116044   \n",
      "std     12566.777832    160.290488        160.258957           2.076768   \n",
      "min         0.000021      8.157651          8.861608           1.000000   \n",
      "25%        15.404123    316.153677        316.783063           1.000000   \n",
      "50%       105.145155    445.207924        445.849193           1.000000   \n",
      "75%       712.560628    544.842893        545.163520           2.000000   \n",
      "max    595105.933935    649.995609        673.222077           8.000000   \n",
      "\n",
      "          Fire_Year  Circleness_Scale  Circle_Flag  Shape_Length    Shape_Area  \n",
      "count  33901.000000      33901.000000       2818.0  3.390100e+04  3.390100e+04  \n",
      "mean    2000.712486          0.478881          1.0  1.073487e+04  7.925454e+06  \n",
      "std       14.990027          0.263769          0.0  2.759050e+04  5.085595e+07  \n",
      "min     1964.000000          0.000359          1.0  1.212677e+00  8.377672e-02  \n",
      "25%     1990.000000          0.270315          1.0  1.288138e+03  6.233827e+04  \n",
      "50%     2005.000000          0.438445          1.0  3.698985e+03  4.255073e+05  \n",
      "75%     2013.000000          0.649820          1.0  1.063508e+04  2.883631e+06  \n",
      "max     2020.000000          0.996754          1.0  1.035721e+06  2.408308e+09  \n"
     ]
    }
   ],
   "source": [
    "print(wildfire_data[columns_to_explore].describe())"
   ]
  },
  {
   "cell_type": "code",
   "execution_count": 46,
   "metadata": {
    "colab": {
     "base_uri": "https://localhost:8080/"
    },
    "id": "s31RfUyf6i-A",
    "outputId": "ef69c104-a79d-4255-acdd-8c300124b5d4"
   },
   "outputs": [
    {
     "name": "stdout",
     "output_type": "stream",
     "text": [
      "Unique values in Assigned_Fire_Type:\n",
      "Wildfire                            26814\n",
      "Prescribed Fire                      4512\n",
      "Likely Wildfire                      2167\n",
      "Unknown - Likely Prescribed Fire      323\n",
      "Unknown - Likely Wildfire              85\n",
      "Name: Assigned_Fire_Type, dtype: int64\n",
      "Number of unique values: 5\n",
      "Unique values in Fire_Polygon_Tier:\n",
      "1    23791\n",
      "7     3841\n",
      "3     3283\n",
      "2     1744\n",
      "6      707\n",
      "8      285\n",
      "5      199\n",
      "4       51\n",
      "Name: Fire_Polygon_Tier, dtype: int64\n",
      "Number of unique values: 8\n",
      "Unique values in Fire_Attribute_Tiers:\n",
      "1 (1), 3 (1)                  4878\n",
      "1 (1), 3 (2)                  3311\n",
      "1 (2), 3 (3)                  2588\n",
      "7 (1)                         2355\n",
      "1 (1), 3 (3), 4 (1)           1747\n",
      "                              ... \n",
      "1 (2), 3 (5), 4 (1), 6 (1)       1\n",
      "1 (2), 3 (5), 4 (2), 5 (1)       1\n",
      "1 (1), 3 (2), 4 (1), 7 (2)       1\n",
      "1 (4), 3 (16), 4 (4)             1\n",
      "8 (20)                           1\n",
      "Name: Fire_Attribute_Tiers, Length: 1376, dtype: int64\n",
      "Number of unique values: 1376\n",
      "Unique values in Circle_Flag:\n",
      "1.0    2818\n",
      "Name: Circle_Flag, dtype: int64\n",
      "Number of unique values: 1\n"
     ]
    }
   ],
   "source": [
    "\n",
    "# This function helps me explore the categorical columns\n",
    "def explore_categorical(column):\n",
    "    print(f\"Unique values in {column}:\")\n",
    "    print(wildfire_data[column].value_counts())\n",
    "    print(f\"Number of unique values: {wildfire_data[column].nunique()}\")\n",
    "\n",
    "# Explore categorical columns\n",
    "categorical_columns = ['Assigned_Fire_Type', 'Fire_Polygon_Tier',\n",
    "                       'Fire_Attribute_Tiers', 'Circle_Flag']\n",
    "\n",
    "for col in categorical_columns:\n",
    "    explore_categorical(col)"
   ]
  },
  {
   "cell_type": "code",
   "execution_count": 47,
   "metadata": {},
   "outputs": [
    {
     "name": "stdout",
     "output_type": "stream",
     "text": [
      "Number of fires in 1964: 161\n",
      "Number of fires in 1965: 154\n",
      "Number of fires in 1966: 221\n",
      "Number of fires in 1967: 269\n",
      "Number of fires in 1968: 243\n",
      "Number of fires in 1969: 193\n",
      "Number of fires in 1970: 276\n",
      "Number of fires in 1971: 207\n",
      "Number of fires in 1972: 237\n",
      "Number of fires in 1973: 219\n",
      "Number of fires in 1974: 367\n",
      "Number of fires in 1975: 263\n",
      "Number of fires in 1976: 283\n",
      "Number of fires in 1977: 225\n",
      "Number of fires in 1978: 250\n",
      "Number of fires in 1979: 440\n",
      "Number of fires in 1980: 457\n",
      "Number of fires in 1981: 419\n",
      "Number of fires in 1982: 207\n",
      "Number of fires in 1983: 277\n",
      "Number of fires in 1984: 381\n",
      "Number of fires in 1985: 535\n",
      "Number of fires in 1986: 400\n",
      "Number of fires in 1987: 566\n",
      "Number of fires in 1988: 600\n",
      "Number of fires in 1989: 624\n",
      "Number of fires in 1990: 395\n",
      "Number of fires in 1991: 276\n",
      "Number of fires in 1992: 423\n",
      "Number of fires in 1993: 451\n",
      "Number of fires in 1994: 655\n",
      "Number of fires in 1995: 521\n",
      "Number of fires in 1996: 697\n",
      "Number of fires in 1997: 390\n",
      "Number of fires in 1998: 490\n",
      "Number of fires in 1999: 644\n",
      "Number of fires in 2000: 852\n",
      "Number of fires in 2001: 678\n",
      "Number of fires in 2002: 674\n",
      "Number of fires in 2003: 695\n",
      "Number of fires in 2004: 587\n",
      "Number of fires in 2005: 957\n",
      "Number of fires in 2006: 1179\n",
      "Number of fires in 2007: 969\n",
      "Number of fires in 2008: 920\n",
      "Number of fires in 2009: 941\n",
      "Number of fires in 2010: 861\n",
      "Number of fires in 2011: 1383\n",
      "Number of fires in 2012: 1086\n",
      "Number of fires in 2013: 764\n",
      "Number of fires in 2014: 660\n",
      "Number of fires in 2015: 763\n",
      "Number of fires in 2016: 1069\n",
      "Number of fires in 2017: 1301\n",
      "Number of fires in 2018: 1260\n",
      "Number of fires in 2019: 1106\n",
      "Number of fires in 2020: 1780\n",
      "Number of fires in 2021: 0\n",
      "Number of fires in 2022: 0\n",
      "Number of fires in 2023: 0\n",
      "Number of fires in 2024: 0\n"
     ]
    }
   ],
   "source": [
    "# Here I check the count of fires for each year\n",
    "for year in range(1964, 2025):\n",
    "  fire_count = len(wildfire_data[wildfire_data['Fire_Year'] == year])\n",
    "  print(f\"Number of fires in {year}: {fire_count}\")"
   ]
  },
  {
   "cell_type": "markdown",
   "metadata": {},
   "source": [
    "From the cells above, I have understood that the GIS_Acres is an important feature since it can range from about 0 to almost 600K acres. This goes to show how intense a wildfire is. Another column that I found interesting is Assigned_Fire_Type. This is intriguing since a major wildfire that is actually affecting the people negatively would likely be a confirmed wildfire in the type. However, we notice that there are quite a few other categories so I think that is important to consider. Lastly, I also noticed that the column Min_Distance has a wide range from about 8 to 650 miles. I explore this further in the next cell.\n",
    "\n",
    "Note: It is critical to understand that there is no data for 2021-2024. I decided to let it stay as NaN"
   ]
  },
  {
   "cell_type": "code",
   "execution_count": 48,
   "metadata": {
    "colab": {
     "base_uri": "https://localhost:8080/"
    },
    "id": "WJRHP3qJ7Lxi",
    "outputId": "29e2e0af-3201-4570-c515-bf0da21a9e60"
   },
   "outputs": [
    {
     "name": "stdout",
     "output_type": "stream",
     "text": [
      "Proximity Level Distribution:\n",
      "Proximity Level 1: Range (0-130) miles, Count: 2545\n",
      "Proximity Level 2: Range (130-260) miles, Count: 3024\n",
      "Proximity Level 3: Range (260-390) miles, Count: 7386\n",
      "Proximity Level 4: Range (390-520) miles, Count: 8778\n",
      "Proximity Level 5: Range (520-650) miles, Count: 12168\n"
     ]
    }
   ],
   "source": [
    "# Here I decide to make 5 categories of proximity showing their corresponding distance ranges\n",
    "# This would help me understand if the fire is actually close to the city and how does it contribute to the estimate\n",
    "proximity_levels = {\n",
    "    1: (0, 130),\n",
    "    2: (130, 260),\n",
    "    3: (260, 390),\n",
    "    4: (390, 520),\n",
    "    5: (520, 650)\n",
    "}\n",
    "\n",
    "# Here I create a new column 'Proximity_Level' based on the Min_Distance\n",
    "wildfire_data['Proximity_Level'] = pd.cut(\n",
    "    wildfire_data['Min_Distance'],\n",
    "    bins=[0, 130, 260, 390, 520, 650],\n",
    "    labels=[1, 2, 3, 4, 5],\n",
    "    include_lowest=True\n",
    ")\n",
    "\n",
    "\n",
    "print(\"Proximity Level Distribution:\")\n",
    "for level, (lower_bound, upper_bound) in proximity_levels.items():\n",
    "    level_data = wildfire_data[wildfire_data['Proximity_Level'] == level]\n",
    "    count = len(level_data)\n",
    "    print(f\"Proximity Level {level}: Range ({lower_bound}-{upper_bound}) miles, Count: {count}\")\n"
   ]
  },
  {
   "cell_type": "markdown",
   "metadata": {},
   "source": [
    "Based on the above output we see that more often than not the wildfire is farther away from the city, ideally making it less impactful"
   ]
  },
  {
   "cell_type": "markdown",
   "metadata": {},
   "source": [
    "### Calculte Smoke Estimate"
   ]
  },
  {
   "cell_type": "markdown",
   "metadata": {},
   "source": [
    "The `calculate_smoke_estimate` function computes an estimated \"smoke impact\" score for individual wildfire records. I calculate the smoke_estimate based on three main factors:\n",
    "\n",
    "1. **Proximity Level** - This measures the closeness of the wildfire to my assigned city Mesa.\n",
    "2. **GIS Acres** - This represents the size of the wildfire.\n",
    "3. **Fire Type** - This is the different categorizes of the fire type.\n",
    "\n",
    "I basically get the final estimate for each wildfire record by weighing and combining these factors.\n",
    "\n",
    "### Key Steps in the Calculation\n",
    "\n",
    "#### Step 1: Set the weights for each factor\n",
    "I assign each factor a weight based on how important a role it plays in terms of smoke impact:\n",
    "\n",
    "- **`proximity_weight`**: I set this to 0.7, as proximity is a strong indicator of potential impact. I think if a fire is closer to my city, it is more likely to leave a larger impact. However, this is also dependent on other factors like wind, weather etc. so I don't give this the highest weight.\n",
    "- **`gis_acres_weight`**: I set this to 0.8 to highlight that larger fires are likely to produce more smoke.\n",
    "- **`fire_type_weight`**: I decided to set this to 0.4, as there is not too much specific information on the type of fire, but I believe that if it was a major wildfire, it would be reported so.\n",
    "\n",
    "#### Step 2: Calculate how the individual factor will impact the smoke estimate\n",
    "\n",
    "1. **Proximity**: \n",
    "   - I calculate the proximity impact as $$ 1 / Proximity Level $$. I do so becuase proximity is inversely proportional to the smoke impact. Basically, that smaller proximity values (indicating closer proximity) yield higher impacts.\n",
    "\n",
    "2. **Fire Size based on GIS_Acres**:\n",
    "   - I normalize the wildfire area by dividing each wildfire’s acreage by the largest area in the dataset because this scales the values between 0 and 1. This makes it easier to compare wildfires of different sizes and to combine area meaningfully with other factors in the smoke estimate calculation.\n",
    "\n",
    "3. **Fire Type Impact**:\n",
    "   - I assign the fire type an impact value as follows:\n",
    "     - `Wildfire`: 1.0 (highest impact due to smoke production).\n",
    "     - `Prescribed Fire`: 0.7.\n",
    "     - `Likely Wildfire`: 0.9.\n",
    "     - `Unknown - Likely Prescribed Fire`: 0.6.\n",
    "     - `Unknown - Likely Wildfire`: 0.8.\n",
    "     - All other types default to 0.5.\n",
    "\n",
    "#### Step 3: Calculating the final smoke estimate for each fire\n",
    "\n",
    "I calculate the final smoke estimate as a weighted sum of the three factors listed above as follows:\n",
    "\n",
    "$$\n",
    "\\text{smoke\\_estimate} = (\\text{proximity\\_level\\_impact} \\times \\text{proximity\\_weight}) + (\\text{gis\\_acres\\_impact} \\times \\text{gis\\_acres\\_weight}) + (\\text{fire\\_type\\_impact} \\times \\text{fire\\_type\\_weight})\n",
    "$$\n",
    "\n",
    "\n",
    "This weighted formula combines each factor based on its importance, resulting in an estimate of the smoke impact for each wildfire record.\n",
    "\n"
   ]
  },
  {
   "cell_type": "code",
   "execution_count": 49,
   "metadata": {
    "id": "dR-_G1Bp7L2c"
   },
   "outputs": [],
   "source": [
    "# This function calculates a smoke estimate for a single wildfire record\n",
    "def calculate_smoke_estimate(row):\n",
    "  # Weights for the different factors\n",
    "  proximity_weight = 0.7\n",
    "  gis_acres_weight = 0.8\n",
    "  fire_type_weight = 0.4\n",
    "\n",
    "  # Proximity level impact\n",
    "  proximity_level_impact = 1 / row['Proximity_Level']  # Higher proximity, higher impact\n",
    "\n",
    "  # GIS Acres impact\n",
    "  gis_acres_impact = row['GIS_Acres'] / wildfire_data['GIS_Acres'].max()  # Normalize GIS Acres\n",
    "\n",
    "  # Fire type impact\n",
    "  if row['Assigned_Fire_Type'] == 'Wildfire':\n",
    "    fire_type_impact = 1\n",
    "  elif row['Assigned_Fire_Type'] == 'Prescribed Fire':\n",
    "    fire_type_impact = 0.7\n",
    "  elif row['Assigned_Fire_Type'] == 'Likely Wildfire':\n",
    "    fire_type_impact = 0.9\n",
    "  elif row['Assigned_Fire_Type'] == 'Unknown - Likely Prescribed Fire':\n",
    "    fire_type_impact = 0.6\n",
    "  elif row['Assigned_Fire_Type'] == 'Unknown - Likely Wildfire':\n",
    "    fire_type_impact = 0.8\n",
    "  else:\n",
    "    fire_type_impact = 0.5\n",
    "\n",
    "  # Calculate the weighted smoke estimate\n",
    "  smoke_estimate = (\n",
    "      (proximity_level_impact * proximity_weight)\n",
    "      + (gis_acres_impact * gis_acres_weight)\n",
    "      + (fire_type_impact * fire_type_weight)\n",
    "  )\n",
    "\n",
    "  return smoke_estimate"
   ]
  },
  {
   "cell_type": "code",
   "execution_count": 50,
   "metadata": {
    "colab": {
     "base_uri": "https://localhost:8080/"
    },
    "id": "aEWYvRB3Jtok",
    "outputId": "7a497471-871b-483b-87cd-df5939c01d24"
   },
   "outputs": [
    {
     "name": "stdout",
     "output_type": "stream",
     "text": [
      "4.641221374045801\n",
      "63.722527472527474\n"
     ]
    }
   ],
   "source": [
    "# Here I found out the min and max values for the yearly average aqi to help scale my smoke estimate\n",
    "print(min(aqi_data[\"yearly_avg_aqi\"]))\n",
    "print(max(aqi_data[\"yearly_avg_aqi\"]))"
   ]
  },
  {
   "cell_type": "code",
   "execution_count": 59,
   "metadata": {
    "colab": {
     "base_uri": "https://localhost:8080/"
    },
    "id": "CjiDS0qCBK0H",
    "outputId": "34529683-4599-4c46-9eeb-299210970eb6"
   },
   "outputs": [
    {
     "data": {
      "text/plain": [
       "Fire_Year\n",
       "1964     4.341713\n",
       "1965     4.000000\n",
       "1966     6.274285\n",
       "1967     7.693339\n",
       "1968     6.949404\n",
       "          ...    \n",
       "2020    64.000000\n",
       "2021          NaN\n",
       "2022          NaN\n",
       "2023          NaN\n",
       "2024          NaN\n",
       "Name: Smoke_Estimate, Length: 61, dtype: float64"
      ]
     },
     "execution_count": 59,
     "metadata": {},
     "output_type": "execute_result"
    }
   ],
   "source": [
    "# Generate data for the years 1964-2024\n",
    "years = list(range(1964, 2025))\n",
    "\n",
    "# Filter wildfire data for years 1964-2020 and calculate smoke estimates\n",
    "wildfire_data = wildfire_data[(wildfire_data['Fire_Year'] >= 1964) & (wildfire_data['Fire_Year'] <= 2024)]\n",
    "wildfire_data['Smoke_Estimate'] = wildfire_data.apply(calculate_smoke_estimate, axis=1)\n",
    "\n",
    "\"\"\" In the next line I sum the smoke estimates for each year to get the annual estimated smoke impact from all fires. \n",
    "I then divide it by 184 to normalize the result across the fire season which has 184 days, giving me an average  \n",
    "smoke estimate.\n",
    "Attribution: I took this idea about dividing it by 184 from Manasa Shivappa. \n",
    "\"\"\"\n",
    "yearly_smoke_estimates = wildfire_data.groupby('Fire_Year')['Smoke_Estimate'].agg('sum') / 184\n",
    "\n",
    "# Here I normalize yearly_smoke_estimates to the range [4, 64] based on the yearly_avg_aqi value\n",
    "# I used ChatGPT to get the formula for normalization. My query was how do I normalize a column between 4 and 64. I edited the response to my use case.\n",
    "min_value, max_value = 4, 64\n",
    "yearly_smoke_estimates = (\n",
    "    (yearly_smoke_estimates - yearly_smoke_estimates.min()) /\n",
    "    (yearly_smoke_estimates.max() - yearly_smoke_estimates.min())\n",
    ") * (max_value - min_value) + min_value\n",
    "\n",
    "yearly_smoke_estimates = yearly_smoke_estimates.reindex(years)\n",
    "yearly_smoke_estimates"
   ]
  },
  {
   "cell_type": "markdown",
   "metadata": {},
   "source": [
    "Now that I had the smoke estimate for each year, I decided to create a single table with the smoke estimate, yearly_avg_aqi and the year.\n",
    "However, before I did that, I needed to deal with the NaN values in the yearly_avg_aqi column. For this, I used two things.\n",
    "First, I created a function that handles the edge case where the first value is empty (in my case I did not have data for 1964). Second, I used the interpolation function to calculate the value of a missing data (in the middle of the data). "
   ]
  },
  {
   "cell_type": "code",
   "execution_count": null,
   "metadata": {
    "colab": {
     "base_uri": "https://localhost:8080/"
    },
    "id": "IBYttMZ4EsSg",
    "outputId": "e50e3cf5-1a75-4406-e580-5b9005219455"
   },
   "outputs": [
    {
     "data": {
      "text/plain": [
       "year\n",
       "1964          NaN\n",
       "1965     6.132075\n",
       "1966     4.641221\n",
       "1967    53.584158\n",
       "1968    63.722527\n",
       "          ...    \n",
       "2020    45.770657\n",
       "2021    47.492489\n",
       "2022    40.919786\n",
       "2023    44.967453\n",
       "2024    42.166169\n",
       "Length: 61, dtype: float64"
      ]
     },
     "execution_count": 60,
     "metadata": {},
     "output_type": "execute_result"
    }
   ],
   "source": [
    "# First, I got a list of aqi's for each year\n",
    "years = list(range(1964, 2025))\n",
    "yearly_aqi_unique = aqi_data[['year', 'yearly_avg_aqi']].drop_duplicates()\n",
    "yearly_avg_aqi = pd.Series(yearly_aqi_unique['yearly_avg_aqi'].values, index=yearly_aqi_unique['year'])\n",
    "yearly_avg_aqi = yearly_avg_aqi.reindex(years)  # Ensure complete range from 1964 to 2024\n",
    "\n",
    "yearly_avg_aqi # Here we see that we have no aqi for 1964 and 1970\n"
   ]
  },
  {
   "cell_type": "code",
   "execution_count": 62,
   "metadata": {},
   "outputs": [
    {
     "data": {
      "text/plain": [
       "year\n",
       "1964     5.386648\n",
       "1965     6.132075\n",
       "1966     4.641221\n",
       "1967    53.584158\n",
       "1968    63.722527\n",
       "          ...    \n",
       "2020    45.770657\n",
       "2021    47.492489\n",
       "2022    40.919786\n",
       "2023    44.967453\n",
       "2024    42.166169\n",
       "Length: 61, dtype: float64"
      ]
     },
     "execution_count": 62,
     "metadata": {},
     "output_type": "execute_result"
    }
   ],
   "source": [
    "# This function handles the missing data in the first record by filling in the average of the next two valid values\n",
    "def fill_first_record(series):\n",
    "    if pd.isna(series.iloc[0]):\n",
    "        if pd.notna(series.iloc[1]) and pd.notna(series.iloc[2]):\n",
    "            series.iloc[0] = (series.iloc[1] + series.iloc[2]) / 2\n",
    "        elif pd.notna(series.iloc[1]):  # Fallback to just the next value\n",
    "            series.iloc[0] = series.iloc[1]\n",
    "\n",
    "    return series\n",
    "\n",
    "yearly_avg_aqi = fill_first_record(yearly_avg_aqi)\n",
    "\n",
    "# Here I interpolate for any remaining NaNs by averaging between the previous and next valid values\n",
    "yearly_avg_aqi = yearly_avg_aqi.interpolate(method='linear')\n",
    "yearly_avg_aqi"
   ]
  },
  {
   "cell_type": "code",
   "execution_count": null,
   "metadata": {},
   "outputs": [
    {
     "data": {
      "text/html": [
       "<div>\n",
       "<style scoped>\n",
       "    .dataframe tbody tr th:only-of-type {\n",
       "        vertical-align: middle;\n",
       "    }\n",
       "\n",
       "    .dataframe tbody tr th {\n",
       "        vertical-align: top;\n",
       "    }\n",
       "\n",
       "    .dataframe thead th {\n",
       "        text-align: right;\n",
       "    }\n",
       "</style>\n",
       "<table border=\"1\" class=\"dataframe\">\n",
       "  <thead>\n",
       "    <tr style=\"text-align: right;\">\n",
       "      <th></th>\n",
       "      <th>Fire_Year</th>\n",
       "      <th>Smoke_Estimate</th>\n",
       "      <th>yearly_avg_aqi</th>\n",
       "    </tr>\n",
       "  </thead>\n",
       "  <tbody>\n",
       "    <tr>\n",
       "      <th>0</th>\n",
       "      <td>1964</td>\n",
       "      <td>4.341713</td>\n",
       "      <td>5.386648</td>\n",
       "    </tr>\n",
       "    <tr>\n",
       "      <th>1</th>\n",
       "      <td>1965</td>\n",
       "      <td>4.000000</td>\n",
       "      <td>6.132075</td>\n",
       "    </tr>\n",
       "    <tr>\n",
       "      <th>2</th>\n",
       "      <td>1966</td>\n",
       "      <td>6.274285</td>\n",
       "      <td>4.641221</td>\n",
       "    </tr>\n",
       "    <tr>\n",
       "      <th>3</th>\n",
       "      <td>1967</td>\n",
       "      <td>7.693339</td>\n",
       "      <td>53.584158</td>\n",
       "    </tr>\n",
       "    <tr>\n",
       "      <th>4</th>\n",
       "      <td>1968</td>\n",
       "      <td>6.949404</td>\n",
       "      <td>63.722527</td>\n",
       "    </tr>\n",
       "    <tr>\n",
       "      <th>...</th>\n",
       "      <td>...</td>\n",
       "      <td>...</td>\n",
       "      <td>...</td>\n",
       "    </tr>\n",
       "    <tr>\n",
       "      <th>56</th>\n",
       "      <td>2020</td>\n",
       "      <td>64.000000</td>\n",
       "      <td>45.770657</td>\n",
       "    </tr>\n",
       "    <tr>\n",
       "      <th>57</th>\n",
       "      <td>2021</td>\n",
       "      <td>NaN</td>\n",
       "      <td>47.492489</td>\n",
       "    </tr>\n",
       "    <tr>\n",
       "      <th>58</th>\n",
       "      <td>2022</td>\n",
       "      <td>NaN</td>\n",
       "      <td>40.919786</td>\n",
       "    </tr>\n",
       "    <tr>\n",
       "      <th>59</th>\n",
       "      <td>2023</td>\n",
       "      <td>NaN</td>\n",
       "      <td>44.967453</td>\n",
       "    </tr>\n",
       "    <tr>\n",
       "      <th>60</th>\n",
       "      <td>2024</td>\n",
       "      <td>NaN</td>\n",
       "      <td>42.166169</td>\n",
       "    </tr>\n",
       "  </tbody>\n",
       "</table>\n",
       "<p>61 rows × 3 columns</p>\n",
       "</div>"
      ],
      "text/plain": [
       "    Fire_Year  Smoke_Estimate  yearly_avg_aqi\n",
       "0        1964        4.341713        5.386648\n",
       "1        1965        4.000000        6.132075\n",
       "2        1966        6.274285        4.641221\n",
       "3        1967        7.693339       53.584158\n",
       "4        1968        6.949404       63.722527\n",
       "..        ...             ...             ...\n",
       "56       2020       64.000000       45.770657\n",
       "57       2021             NaN       47.492489\n",
       "58       2022             NaN       40.919786\n",
       "59       2023             NaN       44.967453\n",
       "60       2024             NaN       42.166169\n",
       "\n",
       "[61 rows x 3 columns]"
      ]
     },
     "execution_count": 63,
     "metadata": {},
     "output_type": "execute_result"
    }
   ],
   "source": [
    "# Now I create the merged DataFrame\n",
    "merged_df = pd.DataFrame({\n",
    "    'Fire_Year': years,\n",
    "    'Smoke_Estimate': yearly_smoke_estimates.reindex(years),\n",
    "    'yearly_avg_aqi': yearly_avg_aqi\n",
    "}).reset_index(drop=True)\n",
    "\n",
    "# Display the merged table\n",
    "merged_df"
   ]
  },
  {
   "cell_type": "markdown",
   "metadata": {},
   "source": [
    "Now that I have a merged dateframe with the smoke estimate and yearly average aqi, I decided to check if my smoke estimate has a correlation with the yearly average aqi. I use pearson correlation for this calculation."
   ]
  },
  {
   "cell_type": "code",
   "execution_count": 65,
   "metadata": {
    "colab": {
     "base_uri": "https://localhost:8080/"
    },
    "id": "J9D-NXlGDzyA",
    "outputId": "9d3464e8-4e4c-417f-a099-84deccd19f29"
   },
   "outputs": [
    {
     "name": "stdout",
     "output_type": "stream",
     "text": [
      "Pearson correlation between Smoke Estimate and Yearly Avg AQI: 0.3242018303165157\n"
     ]
    }
   ],
   "source": [
    "correlation = merged_df['Smoke_Estimate'].corr(merged_df['yearly_avg_aqi'], method='pearson')\n",
    "print(f\"Pearson correlation between Smoke Estimate and Yearly Avg AQI: {correlation}\")"
   ]
  },
  {
   "cell_type": "markdown",
   "metadata": {},
   "source": [
    "From the Pearson correlation above, we can see that there is a low-moderate correlation between my smoke_estimate and the yearly_avg_aqi. This makes sense as my smoke estimate is based on only fires (proximity, area burned and type of fire), whereas the AQI reflects overall air quality, which can be influenced by other factors such as industrial pollution, vehicle emissions, or weather conditions. \n",
    "It is therefore important to note that while wildfire smoke contributes to poor air quality, it is not the sole factor affecting AQI measurements."
   ]
  },
  {
   "cell_type": "code",
   "execution_count": 66,
   "metadata": {
    "id": "QEso2Mc76i-D"
   },
   "outputs": [],
   "source": [
    "# Here I save the smoke estimate and yearly average aqi along with the year in a single table for easier comparison\n",
    "merged_df.to_csv(\"../Processed Data/smoke_estimate_with_year_aqi.csv\")"
   ]
  }
 ],
 "metadata": {
  "colab": {
   "provenance": []
  },
  "kernelspec": {
   "display_name": "base",
   "language": "python",
   "name": "python3"
  },
  "language_info": {
   "codemirror_mode": {
    "name": "ipython",
    "version": 3
   },
   "file_extension": ".py",
   "mimetype": "text/x-python",
   "name": "python",
   "nbconvert_exporter": "python",
   "pygments_lexer": "ipython3",
   "version": "3.11.7"
  }
 },
 "nbformat": 4,
 "nbformat_minor": 0
}
